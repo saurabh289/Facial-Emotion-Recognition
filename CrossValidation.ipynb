{
  "nbformat": 4,
  "nbformat_minor": 0,
  "metadata": {
    "colab": {
      "name": "CrossValidation.ipynb",
      "provenance": []
    },
    "kernelspec": {
      "name": "python3",
      "display_name": "Python 3"
    }
  },
  "cells": [
    {
      "cell_type": "code",
      "metadata": {
        "id": "5Nk-2OGR-3WO",
        "colab_type": "code",
        "colab": {}
      },
      "source": [
        "os.mkdir('/content/folds')\n",
        "for i in range(0,10):\n",
        "  os.mkdir('/content/folds/fold'+str(i))\n",
        "  os.mkdir('/content/folds/fold'+str(i)+'/train')\n",
        "  os.mkdir('/content/folds/fold'+str(i)+'/test')\n",
        "  for j in os.listdir('/content/datasets/CK+48'):\n",
        "    os.mkdir('/content/folds/fold'+str(i)+'/train/'+j)\n",
        "    os.mkdir('/content/folds/fold'+str(i)+'/test/'+j)"
      ],
      "execution_count": null,
      "outputs": []
    },
    {
      "cell_type": "code",
      "metadata": {
        "id": "WzOYdI1N_PgB",
        "colab_type": "code",
        "colab": {}
      },
      "source": [
        "for i in range(0,10):\n",
        "  fold_path = '/content/folds/fold' + str(i)\n",
        "  test_fold = '/content/folds/fold' + str(i) + '/test'\n",
        "  train_fold = '/content/folds/fold' + str(i) + '/train'\n",
        "  for j in os.listdir(train_fold):\n",
        "    emotion_train_fold = train_fold + '/' + j\n",
        "    emotion_test_fold = test_fold + '/' + j\n",
        "    emotion_source = '/content/datasets/CK+48/' + j\n",
        "    length = len(os.listdir(emotion_source))\n",
        "    initial_size = int(i*length/10)\n",
        "    final_size = int((i+1)*length/10)\n",
        "    files = []\n",
        "    for k in os.listdir(emotion_source):\n",
        "      path = emotion_source + '/' + k \n",
        "      files.append(k)\n",
        "    testing_set = files[initial_size:final_size]\n",
        "    training_set = []\n",
        "    for n in files:\n",
        "      if n not in testing_set:\n",
        "        training_set.append(n)\n",
        "    for filename in training_set:\n",
        "      src = emotion_source + '/' + filename\n",
        "      des = emotion_train_fold + '/' + filename\n",
        "      copyfile(src,des)\n",
        "    for filename in testing_set:\n",
        "      src = emotion_source + '/' + filename\n",
        "      des = emotion_test_fold + '/' + filename\n",
        "      copyfile(src,des)"
      ],
      "execution_count": null,
      "outputs": []
    },
    {
      "cell_type": "code",
      "metadata": {
        "id": "-WEIt73e_Rxs",
        "colab_type": "code",
        "colab": {}
      },
      "source": [
        "sum_acc=0\n",
        "for i in range(0,10):\n",
        "  fold_path = '/content/folds/fold' + str(i)\n",
        "  TRAINING_DIR = train_fold = '/content/folds/fold' + str(i) + '/train'\n",
        "  train_datagen = ImageDataGenerator(rescale=1./255,\n",
        "      horizontal_flip=True,\n",
        "      rotation_range=2,                          \n",
        "      preprocessing_function=preprocessing\n",
        "      )\n",
        "  train_generator = train_datagen.flow_from_directory(TRAINING_DIR,\n",
        "                                                    batch_size=50,\n",
        "                                                    class_mode='categorical',\n",
        "                                                    target_size=(100,100),\n",
        "                                                    shuffle=True,\n",
        "                                                    color_mode='grayscale')\n",
        "\n",
        "  VALIDATION_DIR = '/content/folds/fold' + str(i) + '/test'\n",
        "  validation_datagen = ImageDataGenerator(\n",
        "    rescale=1./255,\n",
        "      horizontal_flip=True,\n",
        "      rotation_range=2,\n",
        "      preprocessing_function=preprocessing\n",
        "      )\n",
        "  validation_generator = validation_datagen.flow_from_directory(VALIDATION_DIR,\n",
        "                                                              batch_size=50,\n",
        "                                                              class_mode='categorical',\n",
        "                                                              target_size=(100,100),\n",
        "                                                              shuffle=True,\n",
        "                                                    color_mode='grayscale')\n",
        "  validation_generator.shuffle = False\n",
        "  validation_generator.index_array = None\n",
        "  model = CNN_model_with_1024_neurons(7)\n",
        "  model.compile(optimizer = 'adam', loss = 'categorical_crossentropy',metrics = ['accuracy'])\n",
        "  history = model.fit(train_generator,epochs=10,batch_size=50,shuffle=True)\n",
        "  test_loss,test_acc=model.evaluate(validation_generator)\n",
        "  sum_acc=sum_acc+test_acc\n",
        "avg_acc=sum_acc/10\n",
        "print(avg_acc)"
      ],
      "execution_count": null,
      "outputs": []
    },
    {
      "cell_type": "code",
      "metadata": {
        "id": "c-NdoVvv-vUr",
        "colab_type": "code",
        "colab": {}
      },
      "source": [
        ""
      ],
      "execution_count": null,
      "outputs": []
    }
  ]
}