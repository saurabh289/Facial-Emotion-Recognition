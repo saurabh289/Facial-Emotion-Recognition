{
  "nbformat": 4,
  "nbformat_minor": 0,
  "metadata": {
    "colab": {
      "name": "CNNmodel.ipynb",
      "provenance": []
    },
    "kernelspec": {
      "name": "python3",
      "display_name": "Python 3"
    }
  },
  "cells": [
    {
      "cell_type": "code",
      "metadata": {
        "id": "DU6El5MA-tRN",
        "colab_type": "code",
        "colab": {}
      },
      "source": [
        "def CNN_model_with_0_neurons(num_of_classes):\n",
        "    \n",
        "    model = tf.keras.models.Sequential([\n",
        "        tf.keras.layers.Conv2D(32, (5,5), activation = 'relu', name = 'conv2d_1',),\n",
        "        tf.keras.layers.MaxPooling2D((2,2), name = 'max_pool_1'),\n",
        "        \n",
        "        tf.keras.layers.Conv2D(64,(5,5), activation = 'relu', name = 'conv2d_2'),\n",
        "        tf.keras.layers.MaxPooling2D((2,2), name = 'max_pool_2'),\n",
        "        \n",
        "        tf.keras.layers.Flatten(name = 'flatten_1'),\n",
        "\n",
        "        tf.keras.layers.Dropout(0.5),\n",
        "        tf.keras.layers.Dense(num_of_classes,activation = 'softmax')\n",
        "    ])\n",
        "    return model"
      ],
      "execution_count": null,
      "outputs": []
    },
    {
      "cell_type": "code",
      "metadata": {
        "id": "A1gWawHN-ubt",
        "colab_type": "code",
        "colab": {}
      },
      "source": [
        "def CNN_model_with_256_neurons(num_of_classes):\n",
        "    \n",
        "    model = tf.keras.models.Sequential([\n",
        "        tf.keras.layers.Conv2D(32, (5,5), activation = 'relu', name = 'conv2d_1',),\n",
        "        tf.keras.layers.MaxPooling2D((2,2), name = 'max_pool_1'),\n",
        "        \n",
        "        tf.keras.layers.Conv2D(64,(5,5), activation = 'relu', name = 'conv2d_2'),\n",
        "        tf.keras.layers.MaxPooling2D((2,2), name = 'max_pool_2'),\n",
        "        \n",
        "        tf.keras.layers.Flatten(name = 'flatten_1'),\n",
        "\n",
        "        tf.keras.layers.Dense(256, activation = 'relu', name = \"full_connected_1\"),\n",
        "\n",
        "        tf.keras.layers.Dropout(0.5),\n",
        "        tf.keras.layers.Dense(num_of_classes,activation = 'softmax')\n",
        "    ])\n",
        "    return model"
      ],
      "execution_count": null,
      "outputs": []
    },
    {
      "cell_type": "code",
      "metadata": {
        "id": "cKPCGfdu-zrM",
        "colab_type": "code",
        "colab": {}
      },
      "source": [
        "def CNN_model_with_512_neurons(num_of_classes):\n",
        "    \n",
        "    model = tf.keras.models.Sequential([\n",
        "        tf.keras.layers.Conv2D(32, (5,5), activation = 'relu', name = 'conv2d_1',),\n",
        "        tf.keras.layers.MaxPooling2D((2,2), name = 'max_pool_1'),\n",
        "        \n",
        "        tf.keras.layers.Conv2D(64,(5,5), activation = 'relu', name = 'conv2d_2'),\n",
        "        tf.keras.layers.MaxPooling2D((2,2), name = 'max_pool_2'),\n",
        "        \n",
        "        tf.keras.layers.Flatten(name = 'flatten_1'),\n",
        "\n",
        "        tf.keras.layers.Dense(512, activation = 'relu', name = \"full_connected_1\"),\n",
        "\n",
        "        tf.keras.layers.Dropout(0.5),\n",
        "        tf.keras.layers.Dense(num_of_classes,activation = 'softmax')\n",
        "    ])\n",
        "    return model"
      ],
      "execution_count": null,
      "outputs": []
    },
    {
      "cell_type": "code",
      "metadata": {
        "id": "5Nk-2OGR-3WO",
        "colab_type": "code",
        "colab": {}
      },
      "source": [
        "def CNN_model_with_1024_neurons(num_of_classes):\n",
        "    \n",
        "    model = tf.keras.models.Sequential([\n",
        "        tf.keras.layers.Conv2D(32, (5,5), activation = 'relu', name = 'conv2d_1',),\n",
        "        tf.keras.layers.MaxPooling2D((2,2), name = 'max_pool_1'),\n",
        "        \n",
        "        tf.keras.layers.Conv2D(64,(5,5), activation = 'relu', name = 'conv2d_2'),\n",
        "        tf.keras.layers.MaxPooling2D((2,2), name = 'max_pool_2'),\n",
        "        \n",
        "        tf.keras.layers.Flatten(name = 'flatten_1'),\n",
        "\n",
        "        tf.keras.layers.Dense(1024, activation = 'relu', name = \"full_connected_1\"),\n",
        "\n",
        "        tf.keras.layers.Dropout(0.5),\n",
        "        tf.keras.layers.Dense(num_of_classes,activation = 'softmax')\n",
        "    ])\n",
        "    return model"
      ],
      "execution_count": null,
      "outputs": []
    },
    {
      "cell_type": "code",
      "metadata": {
        "id": "c-NdoVvv-vUr",
        "colab_type": "code",
        "colab": {}
      },
      "source": [
        ""
      ],
      "execution_count": null,
      "outputs": []
    }
  ]
}