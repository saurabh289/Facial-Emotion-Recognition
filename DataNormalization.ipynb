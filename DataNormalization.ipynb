{
  "nbformat": 4,
  "nbformat_minor": 0,
  "metadata": {
    "colab": {
      "name": "DataNormalization.ipynb",
      "provenance": []
    },
    "kernelspec": {
      "name": "python3",
      "display_name": "Python 3"
    }
  },
  "cells": [
    {
      "cell_type": "code",
      "metadata": {
        "id": "hDZlPFD790X8",
        "colab_type": "code",
        "colab": {}
      },
      "source": [
        "\n",
        "def HistEqualization(image, number_bins = 256):         #implementing the histogram equalization\n",
        "  # get the image histogram\n",
        "  image_Hist, bins = np.histogram(image.flatten(), number_bins, [0, 256])\n",
        "  cdf = image_Hist.cumsum() # cumulative distribution function\n",
        "  cdf = image_Hist.max()*cdf/cdf.max()  #normalize\n",
        "  cdf_mask = np.ma.masked_equal(cdf, 0)\n",
        "  cdf_mask = (cdf_mask - cdf_mask.min())*255/(cdf_mask.max()-cdf_mask.min())\n",
        "  cdf = np.ma.filled(cdf_mask,0).astype('uint8')\n",
        "  return cdf[image.astype('uint8')]"
      ],
      "execution_count": null,
      "outputs": []
    },
    {
      "cell_type": "code",
      "metadata": {
        "id": "NMjJ8XjL93B2",
        "colab_type": "code",
        "colab": {}
      },
      "source": [
        "def preprocessing(images):               # A function for overall preprocessing including alignment ,cropping and normalization\n",
        "  images = face_alignment(images)\n",
        "  images = face_cropping_without_background(images)\n",
        "  images = HistEqualization(images,256)\n",
        "  \n",
        "  normalized_img = stats.zscore(images)\n",
        "  images = normalized_img*255\n",
        "  #images = cv2.cvtColor(images,cv2.COLOR_BGR2GRAY)\n",
        "  images = cv2.resize(images,(100,100))\n",
        "  images = np.array(images)\n",
        "  try:\n",
        "    images = images.reshape(100,100,1)\n",
        "  except:\n",
        "    return images\n",
        "  return images"
      ],
      "execution_count": null,
      "outputs": []
    }
  ]
}