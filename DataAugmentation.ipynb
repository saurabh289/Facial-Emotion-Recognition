{
  "nbformat": 4,
  "nbformat_minor": 0,
  "metadata": {
    "colab": {
      "name": "DataAugmentation.ipynb",
      "provenance": []
    },
    "kernelspec": {
      "name": "python3",
      "display_name": "Python 3"
    }
  },
  "cells": [
    {
      "cell_type": "code",
      "metadata": {
        "id": "hDZlPFD790X8",
        "colab_type": "code",
        "colab": {}
      },
      "source": [
        "TRAINING_DIR = \"/content/images/train\"\n",
        "train_datagen = ImageDataGenerator(rescale=1./255,\n",
        "      horizontal_flip=True,\n",
        "      rotation_range=2,                          \n",
        "      preprocessing_function=preprocessing\n",
        "      )\n",
        "train_generator = train_datagen.flow_from_directory(TRAINING_DIR,\n",
        "                                                    batch_size=50,\n",
        "                                                    class_mode='categorical',\n",
        "                                                    target_size=(100,100),\n",
        "                                                    shuffle=True,\n",
        "                                                    color_mode='grayscale')\n",
        "\n",
        "VALIDATION_DIR = \"/content/images/test\"\n",
        "validation_datagen = ImageDataGenerator(\n",
        "    rescale=1./255,\n",
        "      horizontal_flip=True,\n",
        "      rotation_range=2,\n",
        "      preprocessing_function=preprocessing\n",
        "      )\n",
        "validation_generator = validation_datagen.flow_from_directory(VALIDATION_DIR,\n",
        "                                                              batch_size=50,\n",
        "                                                              class_mode='categorical',\n",
        "                                                              target_size=(100,100),\n",
        "                                                              shuffle=True,\n",
        "                                                    color_mode='grayscale')\n",
        "validation_generator.shuffle = False\n",
        "validation_generator.index_array = None"
      ],
      "execution_count": null,
      "outputs": []
    }
  ]
}